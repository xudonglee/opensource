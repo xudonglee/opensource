{
  "cells": [
    {
      "cell_type": "markdown",
      "metadata": {
        "id": "view-in-github",
        "colab_type": "text"
      },
      "source": [
        "<a href=\"https://colab.research.google.com/github/xudonglee/opensource/blob/master/models/DeepSeek/04-DeepSeek-7B-chat%20Lora%20%E5%BE%AE%E8%B0%83.ipynb\" target=\"_parent\"><img src=\"https://colab.research.google.com/assets/colab-badge.svg\" alt=\"Open In Colab\"/></a>"
      ]
    },
    {
      "cell_type": "markdown",
      "id": "de53995b-32ed-4722-8cac-ba104c8efacb",
      "metadata": {
        "id": "de53995b-32ed-4722-8cac-ba104c8efacb"
      },
      "source": [
        "# 导入环境"
      ]
    },
    {
      "cell_type": "code",
      "source": [
        "!pip install datasets==2.14.5"
      ],
      "metadata": {
        "id": "0WeOxe98qHZU",
        "outputId": "3e9492a5-2324-463f-ab0b-88a83a270598",
        "colab": {
          "base_uri": "https://localhost:8080/"
        }
      },
      "id": "0WeOxe98qHZU",
      "execution_count": 2,
      "outputs": [
        {
          "output_type": "stream",
          "name": "stdout",
          "text": [
            "Collecting datasets==2.14.5\n",
            "  Downloading datasets-2.14.5-py3-none-any.whl.metadata (19 kB)\n",
            "Requirement already satisfied: numpy>=1.17 in /usr/local/lib/python3.11/dist-packages (from datasets==2.14.5) (1.26.4)\n",
            "Requirement already satisfied: pyarrow>=8.0.0 in /usr/local/lib/python3.11/dist-packages (from datasets==2.14.5) (17.0.0)\n",
            "Collecting dill<0.3.8,>=0.3.0 (from datasets==2.14.5)\n",
            "  Downloading dill-0.3.7-py3-none-any.whl.metadata (9.9 kB)\n",
            "Requirement already satisfied: pandas in /usr/local/lib/python3.11/dist-packages (from datasets==2.14.5) (2.2.2)\n",
            "Requirement already satisfied: requests>=2.19.0 in /usr/local/lib/python3.11/dist-packages (from datasets==2.14.5) (2.32.3)\n",
            "Requirement already satisfied: tqdm>=4.62.1 in /usr/local/lib/python3.11/dist-packages (from datasets==2.14.5) (4.67.1)\n",
            "Collecting xxhash (from datasets==2.14.5)\n",
            "  Downloading xxhash-3.5.0-cp311-cp311-manylinux_2_17_x86_64.manylinux2014_x86_64.whl.metadata (12 kB)\n",
            "Collecting multiprocess (from datasets==2.14.5)\n",
            "  Downloading multiprocess-0.70.17-py311-none-any.whl.metadata (7.2 kB)\n",
            "Collecting fsspec<2023.9.0,>=2023.1.0 (from fsspec[http]<2023.9.0,>=2023.1.0->datasets==2.14.5)\n",
            "  Downloading fsspec-2023.6.0-py3-none-any.whl.metadata (6.7 kB)\n",
            "Requirement already satisfied: aiohttp in /usr/local/lib/python3.11/dist-packages (from datasets==2.14.5) (3.11.12)\n",
            "Requirement already satisfied: huggingface-hub<1.0.0,>=0.14.0 in /usr/local/lib/python3.11/dist-packages (from datasets==2.14.5) (0.28.1)\n",
            "Requirement already satisfied: packaging in /usr/local/lib/python3.11/dist-packages (from datasets==2.14.5) (24.2)\n",
            "Requirement already satisfied: pyyaml>=5.1 in /usr/local/lib/python3.11/dist-packages (from datasets==2.14.5) (6.0.2)\n",
            "Requirement already satisfied: aiohappyeyeballs>=2.3.0 in /usr/local/lib/python3.11/dist-packages (from aiohttp->datasets==2.14.5) (2.4.6)\n",
            "Requirement already satisfied: aiosignal>=1.1.2 in /usr/local/lib/python3.11/dist-packages (from aiohttp->datasets==2.14.5) (1.3.2)\n",
            "Requirement already satisfied: attrs>=17.3.0 in /usr/local/lib/python3.11/dist-packages (from aiohttp->datasets==2.14.5) (25.1.0)\n",
            "Requirement already satisfied: frozenlist>=1.1.1 in /usr/local/lib/python3.11/dist-packages (from aiohttp->datasets==2.14.5) (1.5.0)\n",
            "Requirement already satisfied: multidict<7.0,>=4.5 in /usr/local/lib/python3.11/dist-packages (from aiohttp->datasets==2.14.5) (6.1.0)\n",
            "Requirement already satisfied: propcache>=0.2.0 in /usr/local/lib/python3.11/dist-packages (from aiohttp->datasets==2.14.5) (0.2.1)\n",
            "Requirement already satisfied: yarl<2.0,>=1.17.0 in /usr/local/lib/python3.11/dist-packages (from aiohttp->datasets==2.14.5) (1.18.3)\n",
            "Requirement already satisfied: filelock in /usr/local/lib/python3.11/dist-packages (from huggingface-hub<1.0.0,>=0.14.0->datasets==2.14.5) (3.17.0)\n",
            "Requirement already satisfied: typing-extensions>=3.7.4.3 in /usr/local/lib/python3.11/dist-packages (from huggingface-hub<1.0.0,>=0.14.0->datasets==2.14.5) (4.12.2)\n",
            "Requirement already satisfied: charset-normalizer<4,>=2 in /usr/local/lib/python3.11/dist-packages (from requests>=2.19.0->datasets==2.14.5) (3.4.1)\n",
            "Requirement already satisfied: idna<4,>=2.5 in /usr/local/lib/python3.11/dist-packages (from requests>=2.19.0->datasets==2.14.5) (3.10)\n",
            "Requirement already satisfied: urllib3<3,>=1.21.1 in /usr/local/lib/python3.11/dist-packages (from requests>=2.19.0->datasets==2.14.5) (2.3.0)\n",
            "Requirement already satisfied: certifi>=2017.4.17 in /usr/local/lib/python3.11/dist-packages (from requests>=2.19.0->datasets==2.14.5) (2025.1.31)\n",
            "INFO: pip is looking at multiple versions of multiprocess to determine which version is compatible with other requirements. This could take a while.\n",
            "Collecting multiprocess (from datasets==2.14.5)\n",
            "  Downloading multiprocess-0.70.16-py311-none-any.whl.metadata (7.2 kB)\n",
            "  Downloading multiprocess-0.70.15-py311-none-any.whl.metadata (7.2 kB)\n",
            "Requirement already satisfied: python-dateutil>=2.8.2 in /usr/local/lib/python3.11/dist-packages (from pandas->datasets==2.14.5) (2.8.2)\n",
            "Requirement already satisfied: pytz>=2020.1 in /usr/local/lib/python3.11/dist-packages (from pandas->datasets==2.14.5) (2025.1)\n",
            "Requirement already satisfied: tzdata>=2022.7 in /usr/local/lib/python3.11/dist-packages (from pandas->datasets==2.14.5) (2025.1)\n",
            "Requirement already satisfied: six>=1.5 in /usr/local/lib/python3.11/dist-packages (from python-dateutil>=2.8.2->pandas->datasets==2.14.5) (1.17.0)\n",
            "Downloading datasets-2.14.5-py3-none-any.whl (519 kB)\n",
            "\u001b[2K   \u001b[90m━━━━━━━━━━━━━━━━━━━━━━━━━━━━━━━━━━━━━━━━\u001b[0m \u001b[32m519.6/519.6 kB\u001b[0m \u001b[31m15.1 MB/s\u001b[0m eta \u001b[36m0:00:00\u001b[0m\n",
            "\u001b[?25hDownloading dill-0.3.7-py3-none-any.whl (115 kB)\n",
            "\u001b[2K   \u001b[90m━━━━━━━━━━━━━━━━━━━━━━━━━━━━━━━━━━━━━━━━\u001b[0m \u001b[32m115.3/115.3 kB\u001b[0m \u001b[31m6.8 MB/s\u001b[0m eta \u001b[36m0:00:00\u001b[0m\n",
            "\u001b[?25hDownloading fsspec-2023.6.0-py3-none-any.whl (163 kB)\n",
            "\u001b[2K   \u001b[90m━━━━━━━━━━━━━━━━━━━━━━━━━━━━━━━━━━━━━━━━\u001b[0m \u001b[32m163.8/163.8 kB\u001b[0m \u001b[31m9.4 MB/s\u001b[0m eta \u001b[36m0:00:00\u001b[0m\n",
            "\u001b[?25hDownloading multiprocess-0.70.15-py311-none-any.whl (135 kB)\n",
            "\u001b[2K   \u001b[90m━━━━━━━━━━━━━━━━━━━━━━━━━━━━━━━━━━━━━━━━\u001b[0m \u001b[32m135.4/135.4 kB\u001b[0m \u001b[31m10.6 MB/s\u001b[0m eta \u001b[36m0:00:00\u001b[0m\n",
            "\u001b[?25hDownloading xxhash-3.5.0-cp311-cp311-manylinux_2_17_x86_64.manylinux2014_x86_64.whl (194 kB)\n",
            "\u001b[2K   \u001b[90m━━━━━━━━━━━━━━━━━━━━━━━━━━━━━━━━━━━━━━━━\u001b[0m \u001b[32m194.8/194.8 kB\u001b[0m \u001b[31m13.8 MB/s\u001b[0m eta \u001b[36m0:00:00\u001b[0m\n",
            "\u001b[?25hInstalling collected packages: xxhash, fsspec, dill, multiprocess, datasets\n",
            "  Attempting uninstall: fsspec\n",
            "    Found existing installation: fsspec 2024.10.0\n",
            "    Uninstalling fsspec-2024.10.0:\n",
            "      Successfully uninstalled fsspec-2024.10.0\n",
            "\u001b[31mERROR: pip's dependency resolver does not currently take into account all the packages that are installed. This behaviour is the source of the following dependency conflicts.\n",
            "torch 2.5.1+cu124 requires nvidia-cublas-cu12==12.4.5.8; platform_system == \"Linux\" and platform_machine == \"x86_64\", but you have nvidia-cublas-cu12 12.5.3.2 which is incompatible.\n",
            "torch 2.5.1+cu124 requires nvidia-cuda-cupti-cu12==12.4.127; platform_system == \"Linux\" and platform_machine == \"x86_64\", but you have nvidia-cuda-cupti-cu12 12.5.82 which is incompatible.\n",
            "torch 2.5.1+cu124 requires nvidia-cuda-nvrtc-cu12==12.4.127; platform_system == \"Linux\" and platform_machine == \"x86_64\", but you have nvidia-cuda-nvrtc-cu12 12.5.82 which is incompatible.\n",
            "torch 2.5.1+cu124 requires nvidia-cuda-runtime-cu12==12.4.127; platform_system == \"Linux\" and platform_machine == \"x86_64\", but you have nvidia-cuda-runtime-cu12 12.5.82 which is incompatible.\n",
            "torch 2.5.1+cu124 requires nvidia-cudnn-cu12==9.1.0.70; platform_system == \"Linux\" and platform_machine == \"x86_64\", but you have nvidia-cudnn-cu12 9.3.0.75 which is incompatible.\n",
            "torch 2.5.1+cu124 requires nvidia-cufft-cu12==11.2.1.3; platform_system == \"Linux\" and platform_machine == \"x86_64\", but you have nvidia-cufft-cu12 11.2.3.61 which is incompatible.\n",
            "torch 2.5.1+cu124 requires nvidia-curand-cu12==10.3.5.147; platform_system == \"Linux\" and platform_machine == \"x86_64\", but you have nvidia-curand-cu12 10.3.6.82 which is incompatible.\n",
            "torch 2.5.1+cu124 requires nvidia-cusolver-cu12==11.6.1.9; platform_system == \"Linux\" and platform_machine == \"x86_64\", but you have nvidia-cusolver-cu12 11.6.3.83 which is incompatible.\n",
            "torch 2.5.1+cu124 requires nvidia-cusparse-cu12==12.3.1.170; platform_system == \"Linux\" and platform_machine == \"x86_64\", but you have nvidia-cusparse-cu12 12.5.1.3 which is incompatible.\n",
            "torch 2.5.1+cu124 requires nvidia-nvjitlink-cu12==12.4.127; platform_system == \"Linux\" and platform_machine == \"x86_64\", but you have nvidia-nvjitlink-cu12 12.5.82 which is incompatible.\n",
            "gcsfs 2024.10.0 requires fsspec==2024.10.0, but you have fsspec 2023.6.0 which is incompatible.\u001b[0m\u001b[31m\n",
            "\u001b[0mSuccessfully installed datasets-2.14.5 dill-0.3.7 fsspec-2023.6.0 multiprocess-0.70.15 xxhash-3.5.0\n"
          ]
        }
      ]
    },
    {
      "cell_type": "code",
      "execution_count": 3,
      "id": "52fac949-4150-4091-b0c3-2968ab5e385c",
      "metadata": {
        "tags": [],
        "id": "52fac949-4150-4091-b0c3-2968ab5e385c"
      },
      "outputs": [],
      "source": [
        "from datasets import Dataset\n",
        "import pandas as pd\n",
        "from transformers import AutoTokenizer, AutoModelForCausalLM, DataCollatorForSeq2Seq, TrainingArguments, Trainer, GenerationConfig"
      ]
    },
    {
      "cell_type": "code",
      "execution_count": 4,
      "id": "e098d9eb",
      "metadata": {
        "tags": [],
        "id": "e098d9eb"
      },
      "outputs": [],
      "source": [
        "# 将JSON文件转换为CSV文件\n",
        "df = pd.read_json('./huanhuan.json')\n",
        "ds = Dataset.from_pandas(df)"
      ]
    },
    {
      "cell_type": "code",
      "execution_count": 5,
      "id": "8ac92d42-efae-49b1-a00e-ccaa75b98938",
      "metadata": {
        "tags": [],
        "id": "8ac92d42-efae-49b1-a00e-ccaa75b98938",
        "outputId": "ccc514c2-3a6b-4522-f180-0fe2933a1eeb",
        "colab": {
          "base_uri": "https://localhost:8080/"
        }
      },
      "outputs": [
        {
          "output_type": "execute_result",
          "data": {
            "text/plain": [
              "{'instruction': ['小姐，别的秀女都在求中选，唯有咱们小姐想被撂牌子，菩萨一定记得真真儿的——',\n",
              "  '这个温太医啊，也是古怪，谁不知太医不得皇命不能为皇族以外的人请脉诊病，他倒好，十天半月便往咱们府里跑。',\n",
              "  '嬛妹妹，刚刚我去府上请脉，听甄伯母说你来这里进香了。'],\n",
              " 'input': ['', '', ''],\n",
              " 'output': ['嘘——都说许愿说破是不灵的。', '你们俩话太多了，我该和温太医要一剂药，好好治治你们。', '出来走走，也是散心。']}"
            ]
          },
          "metadata": {},
          "execution_count": 5
        }
      ],
      "source": [
        "ds[:3]"
      ]
    },
    {
      "cell_type": "code",
      "source": [
        "print(len(ds))"
      ],
      "metadata": {
        "id": "YSRvRe3HqiEf",
        "outputId": "4d77bedd-eedf-49f4-afa6-61d3e0095fd1",
        "colab": {
          "base_uri": "https://localhost:8080/"
        }
      },
      "id": "YSRvRe3HqiEf",
      "execution_count": 6,
      "outputs": [
        {
          "output_type": "stream",
          "name": "stdout",
          "text": [
            "3729\n"
          ]
        }
      ]
    },
    {
      "cell_type": "code",
      "source": [
        "print(ds[2000:2004])"
      ],
      "metadata": {
        "id": "ZZB96QVrqnRG",
        "outputId": "3c82eaf9-f8ff-4c4b-8166-2a4514d853e7",
        "colab": {
          "base_uri": "https://localhost:8080/"
        }
      },
      "id": "ZZB96QVrqnRG",
      "execution_count": 8,
      "outputs": [
        {
          "output_type": "stream",
          "name": "stdout",
          "text": [
            "{'instruction': ['好大的一个疤，真是非常难看。', '果然是没有了，可是你的伤痕小，我这个疤大，怕是用不上吧。', '快请起来。', '请问小主，这个是什么？'], 'input': ['', '', '', ''], 'output': ['总算是结疤了，难看些有什么要紧，前段时间老是化脓，那才叫我害怕呢。这是陵容给我的舒痕胶，去疤是最好的了，从前我被那只猫挠出伤痕，你看，如今都好了。', '我那儿还有一些，你先用着，若是觉得好，我让陵容再配些过来。', '温太医的礼数是最要紧的，一刻都不放松。', '这个，这是去疤用的舒痕胶。']}\n"
          ]
        }
      ]
    },
    {
      "cell_type": "markdown",
      "id": "51d05e5d-d14e-4f03-92be-9a9677d41918",
      "metadata": {
        "id": "51d05e5d-d14e-4f03-92be-9a9677d41918"
      },
      "source": [
        "# 处理数据集"
      ]
    },
    {
      "cell_type": "code",
      "execution_count": null,
      "id": "74ee5a67-2e55-4974-b90e-cbf492de500a",
      "metadata": {
        "tags": [],
        "id": "74ee5a67-2e55-4974-b90e-cbf492de500a"
      },
      "outputs": [],
      "source": [
        "tokenizer = AutoTokenizer.from_pretrained('./deepseek-ai/deepseek-llm-7b-chat/', use_fast=False, trust_remote_code=True)\n",
        "tokenizer.padding_side = 'right'\n",
        "tokenizer"
      ]
    },
    {
      "cell_type": "code",
      "execution_count": null,
      "id": "2503a5fa-9621-4495-9035-8e7ef6525691",
      "metadata": {
        "tags": [],
        "id": "2503a5fa-9621-4495-9035-8e7ef6525691"
      },
      "outputs": [],
      "source": [
        "def process_func(example):\n",
        "    MAX_LENGTH = 384    # Llama分词器会将一个中文字切分为多个token，因此需要放开一些最大长度，保证数据的完整性\n",
        "    input_ids, attention_mask, labels = [], [], []\n",
        "    instruction = tokenizer(f\"User: {example['instruction']+example['input']}\\n\\n\", add_special_tokens=False)  # add_special_tokens 不在开头加 special_tokens\n",
        "    response = tokenizer(f\"Assistant: {example['output']}<｜end▁of▁sentence｜>\", add_special_tokens=False)\n",
        "    input_ids = instruction[\"input_ids\"] + response[\"input_ids\"] + [tokenizer.pad_token_id]\n",
        "    attention_mask = instruction[\"attention_mask\"] + response[\"attention_mask\"] + [1]  # 因为eos token咱们也是要关注的所以 补充为1\n",
        "    labels = [-100] * len(instruction[\"input_ids\"]) + response[\"input_ids\"] + [tokenizer.pad_token_id]\n",
        "    if len(input_ids) > MAX_LENGTH:  # 做一个截断\n",
        "        input_ids = input_ids[:MAX_LENGTH]\n",
        "        attention_mask = attention_mask[:MAX_LENGTH]\n",
        "        labels = labels[:MAX_LENGTH]\n",
        "    return {\n",
        "        \"input_ids\": input_ids,\n",
        "        \"attention_mask\": attention_mask,\n",
        "        \"labels\": labels\n",
        "    }"
      ]
    },
    {
      "cell_type": "code",
      "execution_count": null,
      "id": "84f870d6-73a9-4b0f-8abf-687b32224ad8",
      "metadata": {
        "tags": [],
        "id": "84f870d6-73a9-4b0f-8abf-687b32224ad8"
      },
      "outputs": [],
      "source": [
        "tokenized_id = ds.map(process_func, remove_columns=ds.column_names)\n",
        "tokenized_id"
      ]
    },
    {
      "cell_type": "code",
      "execution_count": null,
      "id": "1f7e15a0-4d9a-4935-9861-00cc472654b1",
      "metadata": {
        "tags": [],
        "id": "1f7e15a0-4d9a-4935-9861-00cc472654b1"
      },
      "outputs": [],
      "source": [
        "tokenizer.decode(tokenized_id[0]['input_ids'])"
      ]
    },
    {
      "cell_type": "code",
      "execution_count": null,
      "id": "97f16f66-324a-454f-8cc3-ef23b100ecff",
      "metadata": {
        "tags": [],
        "id": "97f16f66-324a-454f-8cc3-ef23b100ecff"
      },
      "outputs": [],
      "source": [
        "tokenizer.decode(list(filter(lambda x: x != -100, tokenized_id[1][\"labels\"])))"
      ]
    },
    {
      "cell_type": "markdown",
      "id": "424823a8-ed0d-4309-83c8-3f6b1cdf274c",
      "metadata": {
        "id": "424823a8-ed0d-4309-83c8-3f6b1cdf274c"
      },
      "source": [
        "# 创建模型"
      ]
    },
    {
      "cell_type": "code",
      "execution_count": null,
      "id": "170764e5-d899-4ef4-8c53-36f6dec0d198",
      "metadata": {
        "tags": [],
        "id": "170764e5-d899-4ef4-8c53-36f6dec0d198"
      },
      "outputs": [],
      "source": [
        "import torch\n",
        "\n",
        "model = AutoModelForCausalLM.from_pretrained('./deepseek-ai/deepseek-llm-7b-chat/', trust_remote_code=True, torch_dtype=torch.half, device_map=\"auto\")\n",
        "model.generation_config = GenerationConfig.from_pretrained('./deepseek-ai/deepseek-llm-7b-chat/')\n",
        "model.generation_config.pad_token_id = model.generation_config.eos_token_id\n",
        "model"
      ]
    },
    {
      "cell_type": "code",
      "execution_count": null,
      "id": "2323eac7-37d5-4288-8bc5-79fac7113402",
      "metadata": {
        "id": "2323eac7-37d5-4288-8bc5-79fac7113402"
      },
      "outputs": [],
      "source": [
        "model.enable_input_require_grads() # 开启梯度检查点时，要执行该方法"
      ]
    },
    {
      "cell_type": "code",
      "execution_count": null,
      "id": "f808b05c-f2cb-48cf-a80d-0c42be6051c7",
      "metadata": {
        "tags": [],
        "id": "f808b05c-f2cb-48cf-a80d-0c42be6051c7"
      },
      "outputs": [],
      "source": [
        "model.dtype"
      ]
    },
    {
      "cell_type": "markdown",
      "id": "13d71257-3c1c-4303-8ff8-af161ebc2cf1",
      "metadata": {
        "id": "13d71257-3c1c-4303-8ff8-af161ebc2cf1"
      },
      "source": [
        "# lora"
      ]
    },
    {
      "cell_type": "code",
      "execution_count": null,
      "id": "2d304ae2-ab60-4080-a80d-19cac2e3ade3",
      "metadata": {
        "tags": [],
        "id": "2d304ae2-ab60-4080-a80d-19cac2e3ade3"
      },
      "outputs": [],
      "source": [
        "from peft import LoraConfig, TaskType, get_peft_model\n",
        "\n",
        "config = LoraConfig(\n",
        "    task_type=TaskType.CAUSAL_LM,\n",
        "    target_modules=[\"q_proj\", \"k_proj\", \"v_proj\", \"o_proj\", \"gate_proj\", \"up_proj\", \"down_proj\"],\n",
        "    inference_mode=False, # 训练模式\n",
        "    r=8, # Lora 秩\n",
        "    lora_alpha=32, # Lora alaph，具体作用参见 Lora 原理\n",
        "    lora_dropout=0.1# Dropout 比例\n",
        ")\n",
        "config"
      ]
    },
    {
      "cell_type": "code",
      "execution_count": null,
      "id": "2c2489c5-eaab-4e1f-b06a-c3f914b4bf8e",
      "metadata": {
        "tags": [],
        "id": "2c2489c5-eaab-4e1f-b06a-c3f914b4bf8e"
      },
      "outputs": [],
      "source": [
        "model = get_peft_model(model, config)\n",
        "config"
      ]
    },
    {
      "cell_type": "code",
      "execution_count": null,
      "id": "ebf5482b-fab9-4eb3-ad88-c116def4be12",
      "metadata": {
        "tags": [],
        "id": "ebf5482b-fab9-4eb3-ad88-c116def4be12"
      },
      "outputs": [],
      "source": [
        "model.print_trainable_parameters()"
      ]
    },
    {
      "cell_type": "markdown",
      "id": "ca055683-837f-4865-9c57-9164ba60c00f",
      "metadata": {
        "id": "ca055683-837f-4865-9c57-9164ba60c00f"
      },
      "source": [
        "# 配置训练参数"
      ]
    },
    {
      "cell_type": "code",
      "execution_count": null,
      "id": "7e76bbff-15fd-4995-a61d-8364dc5e9ea0",
      "metadata": {
        "tags": [],
        "id": "7e76bbff-15fd-4995-a61d-8364dc5e9ea0"
      },
      "outputs": [],
      "source": [
        "args = TrainingArguments(\n",
        "    output_dir=\"./output/DeepSeek\",\n",
        "    per_device_train_batch_size=8,\n",
        "    gradient_accumulation_steps=2,\n",
        "    logging_steps=10,\n",
        "    num_train_epochs=3,\n",
        "    save_steps=100,\n",
        "    learning_rate=1e-4,\n",
        "    save_on_each_node=True,\n",
        "    gradient_checkpointing=True\n",
        ")"
      ]
    },
    {
      "cell_type": "code",
      "execution_count": null,
      "id": "f142cb9c-ad99-48e6-ba86-6df198f9ed96",
      "metadata": {
        "tags": [],
        "id": "f142cb9c-ad99-48e6-ba86-6df198f9ed96"
      },
      "outputs": [],
      "source": [
        "trainer = Trainer(\n",
        "    model=model,\n",
        "    args=args,\n",
        "    train_dataset=tokenized_id,\n",
        "    data_collator=DataCollatorForSeq2Seq(tokenizer=tokenizer, padding=True),\n",
        ")"
      ]
    },
    {
      "cell_type": "code",
      "execution_count": null,
      "id": "aec9bc36-b297-45af-99e1-d4c4d82be081",
      "metadata": {
        "collapsed": true,
        "jupyter": {
          "outputs_hidden": true
        },
        "tags": [],
        "id": "aec9bc36-b297-45af-99e1-d4c4d82be081"
      },
      "outputs": [],
      "source": [
        "trainer.train()"
      ]
    },
    {
      "cell_type": "code",
      "execution_count": null,
      "id": "4b2cee5d-3d58-4f82-8d26-0eb0158f61f9",
      "metadata": {
        "tags": [],
        "id": "4b2cee5d-3d58-4f82-8d26-0eb0158f61f9"
      },
      "outputs": [],
      "source": [
        "text = \"小姐，别的秀女都在求中选，唯有咱们小姐想被撂牌子，菩萨一定记得真真儿的——\"\n",
        "inputs = tokenizer(f\"User: {text}\\n\\n\", return_tensors=\"pt\")\n",
        "outputs = model.generate(**inputs.to(model.device), max_new_tokens=100)\n",
        "\n",
        "result = tokenizer.decode(outputs[0], skip_special_tokens=True)\n",
        "print(result)"
      ]
    }
  ],
  "metadata": {
    "kernelspec": {
      "display_name": "Python 3 (ipykernel)",
      "language": "python",
      "name": "python3"
    },
    "language_info": {
      "codemirror_mode": {
        "name": "ipython",
        "version": 3
      },
      "file_extension": ".py",
      "mimetype": "text/x-python",
      "name": "python",
      "nbconvert_exporter": "python",
      "pygments_lexer": "ipython3",
      "version": "3.8.10"
    },
    "colab": {
      "provenance": [],
      "include_colab_link": true
    }
  },
  "nbformat": 4,
  "nbformat_minor": 5
}